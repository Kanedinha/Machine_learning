{
 "cells": [
  {
   "cell_type": "markdown",
   "metadata": {},
   "source": [
    "Classification of Water Consumption Types\n"
   ]
  },
  {
   "cell_type": "code",
   "execution_count": 44,
   "metadata": {},
   "outputs": [
    {
     "name": "stdout",
     "output_type": "stream",
     "text": [
      "Torch Version:  2.1.0+cpu\n",
      "Cuda is available:  <function is_available at 0x0000023D9B4827A0>\n",
      "<class 'pandas.core.frame.DataFrame'>\n",
      "RangeIndex: 329975 entries, 0 to 329974\n",
      "Data columns (total 6 columns):\n",
      " #   Column             Non-Null Count   Dtype \n",
      "---  ------             --------------   ----- \n",
      " 0   Year               329975 non-null  int64 \n",
      " 1   Month              329975 non-null  int64 \n",
      " 2   Consumer_type      329975 non-null  object\n",
      " 3   Consumption        329975 non-null  int64 \n",
      " 4   Consumer_number    329975 non-null  object\n",
      " 5   Installation_zone  329975 non-null  object\n",
      "dtypes: int64(3), object(3)\n",
      "memory usage: 15.1+ MB\n"
     ]
    },
    {
     "data": {
      "text/html": [
       "<div>\n",
       "<style scoped>\n",
       "    .dataframe tbody tr th:only-of-type {\n",
       "        vertical-align: middle;\n",
       "    }\n",
       "\n",
       "    .dataframe tbody tr th {\n",
       "        vertical-align: top;\n",
       "    }\n",
       "\n",
       "    .dataframe thead th {\n",
       "        text-align: right;\n",
       "    }\n",
       "</style>\n",
       "<table border=\"1\" class=\"dataframe\">\n",
       "  <thead>\n",
       "    <tr style=\"text-align: right;\">\n",
       "      <th></th>\n",
       "      <th>Year</th>\n",
       "      <th>Month</th>\n",
       "      <th>Consumer_type</th>\n",
       "      <th>Consumption</th>\n",
       "      <th>Consumer_number</th>\n",
       "      <th>Installation_zone</th>\n",
       "    </tr>\n",
       "  </thead>\n",
       "  <tbody>\n",
       "    <tr>\n",
       "      <th>0</th>\n",
       "      <td>2013</td>\n",
       "      <td>1</td>\n",
       "      <td>domestic</td>\n",
       "      <td>0</td>\n",
       "      <td>MOGV36480546611521</td>\n",
       "      <td>Installation_zone 1</td>\n",
       "    </tr>\n",
       "    <tr>\n",
       "      <th>1</th>\n",
       "      <td>2013</td>\n",
       "      <td>1</td>\n",
       "      <td>industrial</td>\n",
       "      <td>5</td>\n",
       "      <td>BECS02817768252637</td>\n",
       "      <td>Installation_zone 2</td>\n",
       "    </tr>\n",
       "    <tr>\n",
       "      <th>2</th>\n",
       "      <td>2013</td>\n",
       "      <td>1</td>\n",
       "      <td>domestic</td>\n",
       "      <td>6</td>\n",
       "      <td>VRFW65577141436242</td>\n",
       "      <td>Installation_zone 2</td>\n",
       "    </tr>\n",
       "    <tr>\n",
       "      <th>3</th>\n",
       "      <td>2013</td>\n",
       "      <td>1</td>\n",
       "      <td>domestic</td>\n",
       "      <td>1</td>\n",
       "      <td>QLLI18662653137621</td>\n",
       "      <td>Installation_zone 2</td>\n",
       "    </tr>\n",
       "    <tr>\n",
       "      <th>4</th>\n",
       "      <td>2013</td>\n",
       "      <td>1</td>\n",
       "      <td>domestic</td>\n",
       "      <td>13</td>\n",
       "      <td>HYUO61823402850645</td>\n",
       "      <td>Installation_zone 2</td>\n",
       "    </tr>\n",
       "  </tbody>\n",
       "</table>\n",
       "</div>"
      ],
      "text/plain": [
       "   Year  Month Consumer_type  Consumption     Consumer_number  \\\n",
       "0  2013      1      domestic            0  MOGV36480546611521   \n",
       "1  2013      1    industrial            5  BECS02817768252637   \n",
       "2  2013      1      domestic            6  VRFW65577141436242   \n",
       "3  2013      1      domestic            1  QLLI18662653137621   \n",
       "4  2013      1      domestic           13  HYUO61823402850645   \n",
       "\n",
       "     Installation_zone  \n",
       "0  Installation_zone 1  \n",
       "1  Installation_zone 2  \n",
       "2  Installation_zone 2  \n",
       "3  Installation_zone 2  \n",
       "4  Installation_zone 2  "
      ]
     },
     "execution_count": 44,
     "metadata": {},
     "output_type": "execute_result"
    }
   ],
   "source": [
    "\n",
    "###########################\n",
    "# data libraries\n",
    "###########################\n",
    "import pandas as pd\n",
    "import numpy as np\n",
    "\n",
    "###########################\n",
    "# plot libraries\n",
    "###########################\n",
    "import seaborn as sns\n",
    "import matplotlib.pyplot as plt\n",
    "import matplotlib as mpl\n",
    "\n",
    "###########################\n",
    "# Learn Libraries\n",
    "###########################\n",
    "from sklearn.model_selection import train_test_split\n",
    "from sklearn.metrics import accuracy_score\n",
    "from sklearn.metrics import confusion_matrix\n",
    "\n",
    "###########################\n",
    "# Neural Networks Libraries\n",
    "###########################\n",
    "import torch\n",
    "import torch.nn as nn\n",
    "import torch.nn.functional as F\n",
    "\n",
    "print(\"Torch Version: \", torch.__version__)\n",
    "print(\"Cuda is available: \", torch.cuda.is_available)\n",
    "###########################\n",
    "# import csv in dataframe\n",
    "###########################\n",
    "\n",
    "train = pd.read_csv(\"train.csv\")\n",
    "test = pd.read_csv(\"competition.csv\")\n",
    "\n",
    "###########################\n",
    "# see main data features\n",
    "###########################\n",
    "train.info()\n",
    "train.head()"
   ]
  },
  {
   "cell_type": "markdown",
   "metadata": {},
   "source": [
    "Show the correlations of some features"
   ]
  },
  {
   "cell_type": "code",
   "execution_count": 45,
   "metadata": {},
   "outputs": [],
   "source": [
    "###########################\n",
    "# plot to find some correlation\n",
    "# or outliers\n",
    "###########################\n",
    "train['Installation_zone'] = pd.Categorical(train['Installation_zone'])\n",
    "train['Installation_zone_code'] = train['Installation_zone'].cat.codes\n",
    "\n",
    "train['Consumer_type'] = pd.Categorical(train['Consumer_type'])\n",
    "train['Consumer_type_code'] = train['Consumer_type'].cat.codes\n",
    "\n",
    "# sns.pairplot(data=train,x_vars=['Year', 'Month','Consumption','Installation_zone_code'], y_vars=['Year', 'Month','Consumption','Installation_zone_code'], hue='Consumer_type')\n",
    "# # correlation between installation zone and consumption\n",
    "# plt.figure(figsize=(15, 6))\n",
    "# sns.scatterplot(data=train, x='Installation_zone',y='Consumption')\n",
    "\n",
    "# # correlation between consumer type and consumption\n",
    "# plt.figure(figsize=(15, 6))\n",
    "# sns.scatterplot(data=train, x='Consumer_type',y='Consumption')\n",
    "\n",
    "# # distribution of consumption over consumer type\n",
    "# plt.figure(figsize=(10,6))\n",
    "# sns.boxplot(data=train, x=\"Consumption\", y=\"Consumer_type\")\n",
    "\n",
    "# # counting how much users there are in an installation zone\n",
    "# # grouped by consumer type\n",
    "# plt.figure(figsize=(15, 6))\n",
    "# sns.histplot(data=train, x='Installation_zone',hue='Consumer_type',multiple=\"stack\")\n",
    "\n",
    "###########################\n",
    "# we can see how more higher value of consumption generally correspond to\n",
    "# an industrual consumer type, and generally correspond to an installation\n",
    "# zone with a lower number\n",
    "###########################"
   ]
  },
  {
   "cell_type": "markdown",
   "metadata": {},
   "source": [
    "\n",
    "remove the single value with water consumption of 5000 because it could create some problem during the training of the model"
   ]
  },
  {
   "cell_type": "code",
   "execution_count": 46,
   "metadata": {},
   "outputs": [
    {
     "data": {
      "image/png": "[encoded data removed]",
      "text/plain": [
       "<Figure size 1500x600 with 1 Axes>"
      ]
     },
     "metadata": {},
     "output_type": "display_data"
    }
   ],
   "source": [
    "train_outliers = train['Consumption'] > 3000\n",
    "\n",
    "# remove outliers\n",
    "train.drop(train[train_outliers].index,inplace=True)\n",
    "train.head()\n",
    "\n",
    "# plot new\n",
    "plt.figure(figsize=(15, 6))\n",
    "fig = sns.scatterplot(data=train, x='Installation_zone',y='Consumption')"
   ]
  },
  {
   "cell_type": "markdown",
   "metadata": {},
   "source": [
    "Now, separate the dataset in dataloaders"
   ]
  },
  {
   "cell_type": "code",
   "execution_count": 47,
   "metadata": {},
   "outputs": [],
   "source": [
    "\n",
    "\n",
    "y = train['Consumer_type_code']\n",
    "x = train[['Year', 'Month','Consumption','Installation_zone_code']]\n",
    "x_test, x_train, y_test, y_train = train_test_split(x, y, test_size=0.2)\n",
    "\n",
    "X_train=torch.FloatTensor(x_train.values)\n",
    "X_test=torch.FloatTensor(x_test.values)\n",
    "Y_train=torch.IntTensor(y_train.values)\n",
    "Y_test=torch.IntTensor(y_test.values)\n",
    "\n",
    "class ANN_model(nn.Module):\n",
    "    def __init__(self):\n",
    "        super(ANN_model, self).__init__()\n",
    "        self.linear_ann_stack = nn.Sequential(\n",
    "            nn.Linear(4, 8),\n",
    "            nn.Sigmoid(),\n",
    "            nn.Linear(8, 8),\n",
    "            nn.Sigmoid(),\n",
    "            nn.Linear(8, 7),\n",
    "            nn.Sigmoid(),\n",
    "        )\n",
    "\n",
    "    def forward(self, x):\n",
    "        logits = self.linear_ann_stack(x)\n",
    "        return logits"
   ]
  },
  {
   "cell_type": "markdown",
   "metadata": {},
   "source": [
    "First we can try to train our model with Cross Entropy Loss and the Adam optmizer"
   ]
  },
  {
   "cell_type": "code",
   "execution_count": 48,
   "metadata": {},
   "outputs": [
    {
     "data": {
      "text/plain": [
       "<bound method Module.parameters of ANN_model(\n",
       "  (linear_ann_stack): Sequential(\n",
       "    (0): Linear(in_features=4, out_features=8, bias=True)\n",
       "    (1): Sigmoid()\n",
       "    (2): Linear(in_features=8, out_features=8, bias=True)\n",
       "    (3): Sigmoid()\n",
       "    (4): Linear(in_features=8, out_features=7, bias=True)\n",
       "    (5): Sigmoid()\n",
       "  )\n",
       ")>"
      ]
     },
     "execution_count": 48,
     "metadata": {},
     "output_type": "execute_result"
    }
   ],
   "source": [
    "torch.manual_seed(20)\n",
    "model = ANN_model()\n",
    "\n",
    "model.parameters"
   ]
  },
  {
   "cell_type": "code",
   "execution_count": 49,
   "metadata": {},
   "outputs": [
    {
     "ename": "AttributeError",
     "evalue": "module 'torch' has no attribute '_utils'",
     "output_type": "error",
     "traceback": [
      "\u001b[1;31m---------------------------------------------------------------------------\u001b[0m",
      "\u001b[1;31mAttributeError\u001b[0m                            Traceback (most recent call last)",
      "\u001b[1;32md:\\Kaneda\\Projetos\\Machine_learning\\SW\\Projeto\\Classification of Water Consumption Types.ipynb Cell 11\u001b[0m line \u001b[0;36m3\n\u001b[0;32m      <a href='vscode-notebook-cell:/d%3A/Kaneda/Projetos/Machine_learning/SW/Projeto/Classification%20of%20Water%20Consumption%20Types.ipynb#X12sZmlsZQ%3D%3D?line=0'>1</a>\u001b[0m learning_rate \u001b[39m=\u001b[39m \u001b[39m1e-3\u001b[39m\n\u001b[0;32m      <a href='vscode-notebook-cell:/d%3A/Kaneda/Projetos/Machine_learning/SW/Projeto/Classification%20of%20Water%20Consumption%20Types.ipynb#X12sZmlsZQ%3D%3D?line=1'>2</a>\u001b[0m criterion \u001b[39m=\u001b[39m nn\u001b[39m.\u001b[39mCrossEntropyLoss()\n\u001b[1;32m----> <a href='vscode-notebook-cell:/d%3A/Kaneda/Projetos/Machine_learning/SW/Projeto/Classification%20of%20Water%20Consumption%20Types.ipynb#X12sZmlsZQ%3D%3D?line=2'>3</a>\u001b[0m optimizer \u001b[39m=\u001b[39m torch\u001b[39m.\u001b[39;49moptim\u001b[39m.\u001b[39;49mAdam(model\u001b[39m.\u001b[39;49mparameters(), learning_rate)\n\u001b[0;32m      <a href='vscode-notebook-cell:/d%3A/Kaneda/Projetos/Machine_learning/SW/Projeto/Classification%20of%20Water%20Consumption%20Types.ipynb#X12sZmlsZQ%3D%3D?line=4'>5</a>\u001b[0m epochs\u001b[39m=\u001b[39m\u001b[39m1000\u001b[39m\n\u001b[0;32m      <a href='vscode-notebook-cell:/d%3A/Kaneda/Projetos/Machine_learning/SW/Projeto/Classification%20of%20Water%20Consumption%20Types.ipynb#X12sZmlsZQ%3D%3D?line=5'>6</a>\u001b[0m train_losses\u001b[39m=\u001b[39m[]\n",
      "File \u001b[1;32mc:\\Users\\Emers\\AppData\\Local\\Programs\\Python\\Python311\\Lib\\site-packages\\torch\\optim\\adam.py:45\u001b[0m, in \u001b[0;36mAdam.__init__\u001b[1;34m(self, params, lr, betas, eps, weight_decay, amsgrad, foreach, maximize, capturable, differentiable, fused)\u001b[0m\n\u001b[0;32m     39\u001b[0m     \u001b[39mraise\u001b[39;00m \u001b[39mValueError\u001b[39;00m(\u001b[39mf\u001b[39m\u001b[39m\"\u001b[39m\u001b[39mInvalid weight_decay value: \u001b[39m\u001b[39m{\u001b[39;00mweight_decay\u001b[39m}\u001b[39;00m\u001b[39m\"\u001b[39m)\n\u001b[0;32m     41\u001b[0m defaults \u001b[39m=\u001b[39m \u001b[39mdict\u001b[39m(lr\u001b[39m=\u001b[39mlr, betas\u001b[39m=\u001b[39mbetas, eps\u001b[39m=\u001b[39meps,\n\u001b[0;32m     42\u001b[0m                 weight_decay\u001b[39m=\u001b[39mweight_decay, amsgrad\u001b[39m=\u001b[39mamsgrad,\n\u001b[0;32m     43\u001b[0m                 maximize\u001b[39m=\u001b[39mmaximize, foreach\u001b[39m=\u001b[39mforeach, capturable\u001b[39m=\u001b[39mcapturable,\n\u001b[0;32m     44\u001b[0m                 differentiable\u001b[39m=\u001b[39mdifferentiable, fused\u001b[39m=\u001b[39mfused)\n\u001b[1;32m---> 45\u001b[0m \u001b[39msuper\u001b[39;49m()\u001b[39m.\u001b[39;49m\u001b[39m__init__\u001b[39;49m(params, defaults)\n\u001b[0;32m     47\u001b[0m \u001b[39mif\u001b[39;00m fused:\n\u001b[0;32m     48\u001b[0m     \u001b[39mif\u001b[39;00m differentiable:\n",
      "File \u001b[1;32mc:\\Users\\Emers\\AppData\\Local\\Programs\\Python\\Python311\\Lib\\site-packages\\torch\\optim\\optimizer.py:266\u001b[0m, in \u001b[0;36mOptimizer.__init__\u001b[1;34m(self, params, defaults)\u001b[0m\n\u001b[0;32m    263\u001b[0m     param_groups \u001b[39m=\u001b[39m [{\u001b[39m'\u001b[39m\u001b[39mparams\u001b[39m\u001b[39m'\u001b[39m: param_groups}]\n\u001b[0;32m    265\u001b[0m \u001b[39mfor\u001b[39;00m param_group \u001b[39min\u001b[39;00m param_groups:\n\u001b[1;32m--> 266\u001b[0m     \u001b[39mself\u001b[39;49m\u001b[39m.\u001b[39;49madd_param_group(cast(\u001b[39mdict\u001b[39;49m, param_group))\n\u001b[0;32m    268\u001b[0m \u001b[39m# Allows _cuda_graph_capture_health_check to rig a poor man's TORCH_WARN_ONCE in python,\u001b[39;00m\n\u001b[0;32m    269\u001b[0m \u001b[39m# which I don't think exists\u001b[39;00m\n\u001b[0;32m    270\u001b[0m \u001b[39m# https://github.com/pytorch/pytorch/issues/72948\u001b[39;00m\n\u001b[0;32m    271\u001b[0m \u001b[39mself\u001b[39m\u001b[39m.\u001b[39m_warned_capturable_if_run_uncaptured \u001b[39m=\u001b[39m \u001b[39mTrue\u001b[39;00m\n",
      "File \u001b[1;32mc:\\Users\\Emers\\AppData\\Local\\Programs\\Python\\Python311\\Lib\\site-packages\\torch\\_compile.py:22\u001b[0m, in \u001b[0;36m_disable_dynamo.<locals>.inner\u001b[1;34m(*args, **kwargs)\u001b[0m\n\u001b[0;32m     20\u001b[0m \u001b[39m@functools\u001b[39m\u001b[39m.\u001b[39mwraps(fn)\n\u001b[0;32m     21\u001b[0m \u001b[39mdef\u001b[39;00m \u001b[39minner\u001b[39m(\u001b[39m*\u001b[39margs, \u001b[39m*\u001b[39m\u001b[39m*\u001b[39mkwargs):\n\u001b[1;32m---> 22\u001b[0m     \u001b[39mimport\u001b[39;00m \u001b[39mtorch\u001b[39;00m\u001b[39m.\u001b[39;00m\u001b[39m_dynamo\u001b[39;00m\n\u001b[0;32m     24\u001b[0m     \u001b[39mreturn\u001b[39;00m torch\u001b[39m.\u001b[39m_dynamo\u001b[39m.\u001b[39mdisable(fn, recursive)(\u001b[39m*\u001b[39margs, \u001b[39m*\u001b[39m\u001b[39m*\u001b[39mkwargs)\n",
      "File \u001b[1;32mc:\\Users\\Emers\\AppData\\Local\\Programs\\Python\\Python311\\Lib\\site-packages\\torch\\_dynamo\\__init__.py:2\u001b[0m\n\u001b[0;32m      1\u001b[0m \u001b[39mimport\u001b[39;00m \u001b[39mtorch\u001b[39;00m\n\u001b[1;32m----> 2\u001b[0m \u001b[39mfrom\u001b[39;00m \u001b[39m.\u001b[39;00m \u001b[39mimport\u001b[39;00m allowed_functions, convert_frame, eval_frame, resume_execution\n\u001b[0;32m      3\u001b[0m \u001b[39mfrom\u001b[39;00m \u001b[39m.\u001b[39;00m\u001b[39mbackends\u001b[39;00m\u001b[39m.\u001b[39;00m\u001b[39mregistry\u001b[39;00m \u001b[39mimport\u001b[39;00m list_backends, register_backend\n\u001b[0;32m      4\u001b[0m \u001b[39mfrom\u001b[39;00m \u001b[39m.\u001b[39;00m\u001b[39mconvert_frame\u001b[39;00m \u001b[39mimport\u001b[39;00m replay\n",
      "File \u001b[1;32mc:\\Users\\Emers\\AppData\\Local\\Programs\\Python\\Python311\\Lib\\site-packages\\torch\\_dynamo\\allowed_functions.py:26\u001b[0m\n\u001b[0;32m     23\u001b[0m \u001b[39mimport\u001b[39;00m \u001b[39mtorch\u001b[39;00m\u001b[39m.\u001b[39;00m\u001b[39m_functorch\u001b[39;00m\u001b[39m.\u001b[39;00m\u001b[39mdeprecated\u001b[39;00m \u001b[39mas\u001b[39;00m \u001b[39mdeprecated_func\u001b[39;00m\n\u001b[0;32m     24\u001b[0m \u001b[39mfrom\u001b[39;00m \u001b[39mtorch\u001b[39;00m\u001b[39m.\u001b[39;00m\u001b[39mfx\u001b[39;00m\u001b[39m.\u001b[39;00m\u001b[39m_symbolic_trace\u001b[39;00m \u001b[39mimport\u001b[39;00m is_fx_tracing\n\u001b[1;32m---> 26\u001b[0m \u001b[39mfrom\u001b[39;00m \u001b[39m.\u001b[39;00m \u001b[39mimport\u001b[39;00m config\n\u001b[0;32m     27\u001b[0m \u001b[39mfrom\u001b[39;00m \u001b[39m.\u001b[39;00m\u001b[39mexternal_utils\u001b[39;00m \u001b[39mimport\u001b[39;00m is_compiling\n\u001b[0;32m     28\u001b[0m \u001b[39mfrom\u001b[39;00m \u001b[39m.\u001b[39;00m\u001b[39mutils\u001b[39;00m \u001b[39mimport\u001b[39;00m is_safe_constant, NP_SUPPORTED_MODULES\n",
      "File \u001b[1;32mc:\\Users\\Emers\\AppData\\Local\\Programs\\Python\\Python311\\Lib\\site-packages\\torch\\_dynamo\\config.py:51\u001b[0m\n\u001b[0;32m     41\u001b[0m specialize_int \u001b[39m=\u001b[39m \u001b[39mFalse\u001b[39;00m\n\u001b[0;32m     43\u001b[0m \u001b[39m# Assume these functions return constants\u001b[39;00m\n\u001b[0;32m     44\u001b[0m constant_functions \u001b[39m=\u001b[39m {\n\u001b[0;32m     45\u001b[0m     torch\u001b[39m.\u001b[39mjit\u001b[39m.\u001b[39mis_scripting: \u001b[39mFalse\u001b[39;00m,\n\u001b[0;32m     46\u001b[0m     torch\u001b[39m.\u001b[39mjit\u001b[39m.\u001b[39mis_tracing: \u001b[39mFalse\u001b[39;00m,\n\u001b[0;32m     47\u001b[0m     torch\u001b[39m.\u001b[39m_C\u001b[39m.\u001b[39m_get_tracing_state: \u001b[39mNone\u001b[39;00m,\n\u001b[0;32m     48\u001b[0m     torch\u001b[39m.\u001b[39mfx\u001b[39m.\u001b[39m_symbolic_trace\u001b[39m.\u001b[39mis_fx_tracing: \u001b[39mFalse\u001b[39;00m,\n\u001b[0;32m     49\u001b[0m     torch\u001b[39m.\u001b[39monnx\u001b[39m.\u001b[39mis_in_onnx_export: \u001b[39mFalse\u001b[39;00m,\n\u001b[0;32m     50\u001b[0m     external_utils\u001b[39m.\u001b[39mis_compiling: \u001b[39mTrue\u001b[39;00m,\n\u001b[1;32m---> 51\u001b[0m     torch\u001b[39m.\u001b[39;49m_utils\u001b[39m.\u001b[39mis_compiling: \u001b[39mTrue\u001b[39;00m,\n\u001b[0;32m     52\u001b[0m }\n\u001b[0;32m     54\u001b[0m \u001b[39m# legacy config, does nothing now!\u001b[39;00m\n\u001b[0;32m     55\u001b[0m dynamic_shapes \u001b[39m=\u001b[39m \u001b[39mTrue\u001b[39;00m\n",
      "File \u001b[1;32mc:\\Users\\Emers\\AppData\\Local\\Programs\\Python\\Python311\\Lib\\site-packages\\torch\\__init__.py:1833\u001b[0m, in \u001b[0;36m__getattr__\u001b[1;34m(name)\u001b[0m\n\u001b[0;32m   1830\u001b[0m     \u001b[39mimport\u001b[39;00m \u001b[39mimportlib\u001b[39;00m\n\u001b[0;32m   1831\u001b[0m     \u001b[39mreturn\u001b[39;00m importlib\u001b[39m.\u001b[39mimport_module(\u001b[39mf\u001b[39m\u001b[39m\"\u001b[39m\u001b[39m.\u001b[39m\u001b[39m{\u001b[39;00mname\u001b[39m}\u001b[39;00m\u001b[39m\"\u001b[39m, \u001b[39m__name__\u001b[39m)\n\u001b[1;32m-> 1833\u001b[0m \u001b[39mraise\u001b[39;00m \u001b[39mAttributeError\u001b[39;00m(\u001b[39mf\u001b[39m\u001b[39m\"\u001b[39m\u001b[39mmodule \u001b[39m\u001b[39m'\u001b[39m\u001b[39m{\u001b[39;00m\u001b[39m__name__\u001b[39m\u001b[39m}\u001b[39;00m\u001b[39m'\u001b[39m\u001b[39m has no attribute \u001b[39m\u001b[39m'\u001b[39m\u001b[39m{\u001b[39;00mname\u001b[39m}\u001b[39;00m\u001b[39m'\u001b[39m\u001b[39m\"\u001b[39m)\n",
      "\u001b[1;31mAttributeError\u001b[0m: module 'torch' has no attribute '_utils'"
     ]
    }
   ],
   "source": [
    "learning_rate = 1e-3\n",
    "criterion = nn.CrossEntropyLoss()\n",
    "optimizer = torch.optim.Adam(model.parameters(), learning_rate)\n",
    "\n",
    "epochs=1000\n",
    "train_losses=[]\n",
    "for i in range(epochs):\n",
    "    i= i+1\n",
    "    y_pred=model.forward(X_train)\n",
    "    loss=criterion(y_pred,Y_train)\n",
    "    train_losses.append(loss)\n",
    "    if i % 10 == 1:\n",
    "        print(\"Epoch number: {} and the loss : {}\".format(i,loss.item()))\n",
    "    optimizer.zero_grad()\n",
    "    loss.backward()\n",
    "    optimizer.step() "
   ]
  },
  {
   "cell_type": "markdown",
   "metadata": {},
   "source": [
    "Our loss curve is below"
   ]
  },
  {
   "cell_type": "code",
   "execution_count": null,
   "metadata": {},
   "outputs": [],
   "source": [
    "tensor1 = torch.tensor(train_losses,requires_grad=True)\n",
    "plt.plot(tensor1.detach().numpy())\n",
    "plt.ylabel('Loss')\n",
    "plt.show()"
   ]
  }
 ],
 "metadata": {
  "kernelspec": {
   "display_name": "Python 3",
   "language": "python",
   "name": "python3"
  },
  "language_info": {
   "codemirror_mode": {
    "name": "ipython",
    "version": 3
   },
   "file_extension": ".py",
   "mimetype": "text/x-python",
   "name": "python",
   "nbconvert_exporter": "python",
   "pygments_lexer": "ipython3",
   "version": "3.11.4"
  }
 },
 "nbformat": 4,
 "nbformat_minor": 2
}
